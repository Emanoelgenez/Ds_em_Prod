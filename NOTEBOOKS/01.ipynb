{
 "cells": [
  {
   "cell_type": "markdown",
   "id": "673b5414",
   "metadata": {
    "ExecuteTime": {
     "end_time": "2022-02-02T12:30:24.749805Z",
     "start_time": "2022-02-02T12:30:24.744805Z"
    },
    "heading_collapsed": true
   },
   "source": [
    "# 0.0 IMPORTS"
   ]
  },
  {
   "cell_type": "code",
   "execution_count": 29,
   "id": "f6d7d034",
   "metadata": {
    "ExecuteTime": {
     "end_time": "2022-02-02T16:27:35.458682Z",
     "start_time": "2022-02-02T16:27:35.445692Z"
    },
    "hidden": true
   },
   "outputs": [],
   "source": [
    "import pandas as pd \n",
    "import numpy as np\n",
    "import inflection "
   ]
  },
  {
   "cell_type": "markdown",
   "id": "353e003c",
   "metadata": {
    "heading_collapsed": true,
    "hidden": true
   },
   "source": [
    "## 0.1 Helper functions"
   ]
  },
  {
   "cell_type": "code",
   "execution_count": null,
   "id": "75aedeaf",
   "metadata": {
    "hidden": true
   },
   "outputs": [],
   "source": []
  },
  {
   "cell_type": "code",
   "execution_count": null,
   "id": "38648520",
   "metadata": {
    "hidden": true
   },
   "outputs": [],
   "source": []
  },
  {
   "cell_type": "markdown",
   "id": "e5e8d587",
   "metadata": {
    "heading_collapsed": true,
    "hidden": true
   },
   "source": [
    "## 0.2 Loading data"
   ]
  },
  {
   "cell_type": "code",
   "execution_count": 30,
   "id": "1bd3e794",
   "metadata": {
    "ExecuteTime": {
     "end_time": "2022-02-02T16:27:37.561799Z",
     "start_time": "2022-02-02T16:27:35.462679Z"
    },
    "hidden": true
   },
   "outputs": [],
   "source": [
    "df_train_raw = pd.read_csv('../DATA/train.csv' , low_memory=False)\n",
    "df_store_raw = pd.read_csv('../DATA/store.csv' , low_memory=False)\n",
    "\n",
    "# Merge\n",
    "df_raw= pd.merge(df_train_raw, df_store_raw, how = 'left', on = 'Store')"
   ]
  },
  {
   "cell_type": "code",
   "execution_count": 31,
   "id": "0f4dbc05",
   "metadata": {
    "ExecuteTime": {
     "end_time": "2022-02-02T16:27:37.833275Z",
     "start_time": "2022-02-02T16:27:37.564439Z"
    },
    "hidden": true,
    "scrolled": true
   },
   "outputs": [
    {
     "data": {
      "text/html": [
       "<div>\n",
       "<style scoped>\n",
       "    .dataframe tbody tr th:only-of-type {\n",
       "        vertical-align: middle;\n",
       "    }\n",
       "\n",
       "    .dataframe tbody tr th {\n",
       "        vertical-align: top;\n",
       "    }\n",
       "\n",
       "    .dataframe thead th {\n",
       "        text-align: right;\n",
       "    }\n",
       "</style>\n",
       "<table border=\"1\" class=\"dataframe\">\n",
       "  <thead>\n",
       "    <tr style=\"text-align: right;\">\n",
       "      <th></th>\n",
       "      <th>Store</th>\n",
       "      <th>DayOfWeek</th>\n",
       "      <th>Date</th>\n",
       "      <th>Sales</th>\n",
       "      <th>Customers</th>\n",
       "      <th>Open</th>\n",
       "      <th>Promo</th>\n",
       "      <th>StateHoliday</th>\n",
       "      <th>SchoolHoliday</th>\n",
       "      <th>StoreType</th>\n",
       "      <th>Assortment</th>\n",
       "      <th>CompetitionDistance</th>\n",
       "      <th>CompetitionOpenSinceMonth</th>\n",
       "      <th>CompetitionOpenSinceYear</th>\n",
       "      <th>Promo2</th>\n",
       "      <th>Promo2SinceWeek</th>\n",
       "      <th>Promo2SinceYear</th>\n",
       "      <th>PromoInterval</th>\n",
       "    </tr>\n",
       "  </thead>\n",
       "  <tbody>\n",
       "    <tr>\n",
       "      <th>909890</th>\n",
       "      <td>836</td>\n",
       "      <td>7</td>\n",
       "      <td>2013-04-07</td>\n",
       "      <td>0</td>\n",
       "      <td>0</td>\n",
       "      <td>0</td>\n",
       "      <td>0</td>\n",
       "      <td>0</td>\n",
       "      <td>0</td>\n",
       "      <td>a</td>\n",
       "      <td>a</td>\n",
       "      <td>2720.0</td>\n",
       "      <td>9.0</td>\n",
       "      <td>2012.0</td>\n",
       "      <td>0</td>\n",
       "      <td>NaN</td>\n",
       "      <td>NaN</td>\n",
       "      <td>NaN</td>\n",
       "    </tr>\n",
       "  </tbody>\n",
       "</table>\n",
       "</div>"
      ],
      "text/plain": [
       "        Store  DayOfWeek        Date  Sales  Customers  Open  Promo  \\\n",
       "909890    836          7  2013-04-07      0          0     0      0   \n",
       "\n",
       "       StateHoliday  SchoolHoliday StoreType Assortment  CompetitionDistance  \\\n",
       "909890            0              0         a          a               2720.0   \n",
       "\n",
       "        CompetitionOpenSinceMonth  CompetitionOpenSinceYear  Promo2  \\\n",
       "909890                        9.0                    2012.0       0   \n",
       "\n",
       "        Promo2SinceWeek  Promo2SinceYear PromoInterval  \n",
       "909890              NaN              NaN           NaN  "
      ]
     },
     "execution_count": 31,
     "metadata": {},
     "output_type": "execute_result"
    }
   ],
   "source": [
    "df_raw.sample()"
   ]
  },
  {
   "cell_type": "markdown",
   "id": "b1e2f6f5",
   "metadata": {
    "heading_collapsed": true
   },
   "source": [
    "# 1.0 DESCRIÇÃO DOS DADOS"
   ]
  },
  {
   "cell_type": "code",
   "execution_count": 32,
   "id": "69add198",
   "metadata": {
    "ExecuteTime": {
     "end_time": "2022-02-02T16:27:37.896235Z",
     "start_time": "2022-02-02T16:27:37.837271Z"
    },
    "hidden": true
   },
   "outputs": [],
   "source": [
    "df1 = df_raw.copy()"
   ]
  },
  {
   "cell_type": "markdown",
   "id": "7fe32e54",
   "metadata": {
    "hidden": true
   },
   "source": [
    "## 1.1 Rename columns"
   ]
  },
  {
   "cell_type": "code",
   "execution_count": 33,
   "id": "00bccdb5",
   "metadata": {
    "ExecuteTime": {
     "end_time": "2022-02-02T16:27:37.927215Z",
     "start_time": "2022-02-02T16:27:37.899233Z"
    },
    "hidden": true
   },
   "outputs": [],
   "source": [
    "cols_old = ['Loja', 'DiaDaSemana', 'Data', 'Vendas', 'Clientes', 'Aberto', 'Promo',\n",
    "       'StateHoliday', 'SchoolHoliday', 'StoreType', 'Variedade',\n",
    "       'CompetitionDistance', 'CompetitionOpenSinceMonth',\n",
    "       'CompetitionOpenSinceYear', 'Promo2', 'Promo2SinceWeek',\n",
    "       'Promo2SinceYear', 'PromoInterval']\n",
    "\n",
    "snakecase = lambda x: inflection.underscore(x)\n",
    "\n",
    "cols_new = list( map(snakecase, cols_old) )\n",
    "\n",
    "# Rename\n",
    "df1.columns = cols_new"
   ]
  },
  {
   "cell_type": "markdown",
   "id": "c52a5b0b",
   "metadata": {
    "hidden": true
   },
   "source": [
    "## 1.2 Data dimensions "
   ]
  },
  {
   "cell_type": "code",
   "execution_count": 34,
   "id": "47a391e9",
   "metadata": {
    "ExecuteTime": {
     "end_time": "2022-02-02T16:27:38.133752Z",
     "start_time": "2022-02-02T16:27:37.930214Z"
    },
    "hidden": true
   },
   "outputs": [
    {
     "name": "stdout",
     "output_type": "stream",
     "text": [
      "Nubers of Rows: 1017209\n",
      "Nubers of Cols: 18\n"
     ]
    }
   ],
   "source": [
    "print( 'Nubers of Rows: {}' .format( df1.shape[0] ) )\n",
    "print( 'Nubers of Cols: {}' .format( df1.shape[1] ) )"
   ]
  },
  {
   "cell_type": "markdown",
   "id": "81859780",
   "metadata": {
    "hidden": true
   },
   "source": [
    "## 1.3 Data types "
   ]
  },
  {
   "cell_type": "code",
   "execution_count": 39,
   "id": "8400de2e",
   "metadata": {
    "ExecuteTime": {
     "end_time": "2022-02-02T16:32:18.417060Z",
     "start_time": "2022-02-02T16:32:18.034852Z"
    },
    "hidden": true,
    "scrolled": true
   },
   "outputs": [
    {
     "data": {
      "text/plain": [
       "loja                                     int64\n",
       "dia_da_semana                            int64\n",
       "data                            datetime64[ns]\n",
       "vendas                                   int64\n",
       "clientes                                 int64\n",
       "aberto                                   int64\n",
       "promo                                    int64\n",
       "state_holiday                           object\n",
       "school_holiday                           int64\n",
       "store_type                              object\n",
       "variedade                               object\n",
       "competition_distance                   float64\n",
       "competition_open_since_month           float64\n",
       "competition_open_since_year            float64\n",
       "promo2                                   int64\n",
       "promo2_since_week                      float64\n",
       "promo2_since_year                      float64\n",
       "promo_interval                          object\n",
       "dtype: object"
      ]
     },
     "execution_count": 39,
     "metadata": {},
     "output_type": "execute_result"
    }
   ],
   "source": [
    "df1['data'] = pd.to_datetime( df1 [ 'data'] )\n",
    "\n",
    "df1.dtypes"
   ]
  },
  {
   "cell_type": "markdown",
   "id": "475364fc",
   "metadata": {
    "hidden": true
   },
   "source": [
    "## 1.4 Check NA"
   ]
  },
  {
   "cell_type": "code",
   "execution_count": 42,
   "id": "367ec678",
   "metadata": {
    "ExecuteTime": {
     "end_time": "2022-02-02T16:34:17.785072Z",
     "start_time": "2022-02-02T16:34:17.483373Z"
    },
    "hidden": true
   },
   "outputs": [
    {
     "data": {
      "text/plain": [
       "loja                                 0\n",
       "dia_da_semana                        0\n",
       "data                                 0\n",
       "vendas                               0\n",
       "clientes                             0\n",
       "aberto                               0\n",
       "promo                                0\n",
       "state_holiday                        0\n",
       "school_holiday                       0\n",
       "store_type                           0\n",
       "variedade                            0\n",
       "competition_distance              2642\n",
       "competition_open_since_month    323348\n",
       "competition_open_since_year     323348\n",
       "promo2                               0\n",
       "promo2_since_week               508031\n",
       "promo2_since_year               508031\n",
       "promo_interval                  508031\n",
       "dtype: int64"
      ]
     },
     "execution_count": 42,
     "metadata": {},
     "output_type": "execute_result"
    }
   ],
   "source": [
    "df1.isna().sum()"
   ]
  },
  {
   "cell_type": "code",
   "execution_count": null,
   "id": "fe40cb24",
   "metadata": {
    "hidden": true
   },
   "outputs": [],
   "source": []
  },
  {
   "cell_type": "code",
   "execution_count": null,
   "id": "ae6cce1e",
   "metadata": {
    "hidden": true
   },
   "outputs": [],
   "source": []
  },
  {
   "cell_type": "markdown",
   "id": "8b9d40d6",
   "metadata": {
    "hidden": true
   },
   "source": []
  },
  {
   "cell_type": "markdown",
   "id": "6109f767",
   "metadata": {
    "hidden": true
   },
   "source": [
    "## 1.2 "
   ]
  },
  {
   "cell_type": "markdown",
   "id": "bcc651da",
   "metadata": {
    "hidden": true
   },
   "source": [
    "## 1.2 "
   ]
  },
  {
   "cell_type": "markdown",
   "id": "3141d78e",
   "metadata": {
    "hidden": true
   },
   "source": [
    "## 1.2 "
   ]
  },
  {
   "cell_type": "markdown",
   "id": "73d85b97",
   "metadata": {
    "hidden": true
   },
   "source": [
    "## 1.2 "
   ]
  },
  {
   "cell_type": "code",
   "execution_count": null,
   "id": "3cb46ecc",
   "metadata": {
    "hidden": true
   },
   "outputs": [],
   "source": []
  },
  {
   "cell_type": "code",
   "execution_count": null,
   "id": "35081d65",
   "metadata": {
    "hidden": true
   },
   "outputs": [],
   "source": []
  },
  {
   "cell_type": "code",
   "execution_count": null,
   "id": "cebcd5f2",
   "metadata": {
    "hidden": true
   },
   "outputs": [],
   "source": []
  },
  {
   "cell_type": "code",
   "execution_count": null,
   "id": "8b0cc4f4",
   "metadata": {
    "hidden": true
   },
   "outputs": [],
   "source": []
  },
  {
   "cell_type": "code",
   "execution_count": null,
   "id": "84500141",
   "metadata": {
    "hidden": true
   },
   "outputs": [],
   "source": []
  },
  {
   "cell_type": "code",
   "execution_count": null,
   "id": "3722c3bf",
   "metadata": {
    "hidden": true
   },
   "outputs": [],
   "source": []
  }
 ],
 "metadata": {
  "kernelspec": {
   "display_name": "Python 3 (ipykernel)",
   "language": "python",
   "name": "python3"
  },
  "language_info": {
   "codemirror_mode": {
    "name": "ipython",
    "version": 3
   },
   "file_extension": ".py",
   "mimetype": "text/x-python",
   "name": "python",
   "nbconvert_exporter": "python",
   "pygments_lexer": "ipython3",
   "version": "3.9.7"
  },
  "varInspector": {
   "cols": {
    "lenName": 16,
    "lenType": 16,
    "lenVar": 40
   },
   "kernels_config": {
    "python": {
     "delete_cmd_postfix": "",
     "delete_cmd_prefix": "del ",
     "library": "var_list.py",
     "varRefreshCmd": "print(var_dic_list())"
    },
    "r": {
     "delete_cmd_postfix": ") ",
     "delete_cmd_prefix": "rm(",
     "library": "var_list.r",
     "varRefreshCmd": "cat(var_dic_list()) "
    }
   },
   "types_to_exclude": [
    "module",
    "function",
    "builtin_function_or_method",
    "instance",
    "_Feature"
   ],
   "window_display": false
  }
 },
 "nbformat": 4,
 "nbformat_minor": 5
}
