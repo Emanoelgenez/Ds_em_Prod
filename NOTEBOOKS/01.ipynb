{
 "cells": [
  {
   "cell_type": "markdown",
   "id": "673b5414",
   "metadata": {
    "ExecuteTime": {
     "end_time": "2022-02-02T12:30:24.749805Z",
     "start_time": "2022-02-02T12:30:24.744805Z"
    }
   },
   "source": [
    "# 0.0 IMPORTS"
   ]
  },
  {
   "cell_type": "code",
   "execution_count": 1,
   "id": "75aedeaf",
   "metadata": {
    "ExecuteTime": {
     "end_time": "2022-02-03T10:45:39.716320Z",
     "start_time": "2022-02-03T10:45:22.156361Z"
    }
   },
   "outputs": [],
   "source": [
    "import math\n",
    "import numpy  as np\n",
    "import pandas as pd\n",
    "import inflection\n",
    "import seaborn as sns\n",
    "import matplotlib.pyplot as plt\n",
    "\n",
    "from IPython.core.display import HTML"
   ]
  },
  {
   "cell_type": "markdown",
   "id": "353e003c",
   "metadata": {},
   "source": [
    "## 0.1 Helper functions"
   ]
  },
  {
   "cell_type": "code",
   "execution_count": 2,
   "id": "38648520",
   "metadata": {
    "ExecuteTime": {
     "end_time": "2022-02-03T10:45:39.748298Z",
     "start_time": "2022-02-03T10:45:39.720315Z"
    }
   },
   "outputs": [],
   "source": [
    "def jupyter_settings():\n",
    "    %matplotlib inline\n",
    "    %pylab inline\n",
    "    \n",
    "    plt.style.use( 'bmh' )\n",
    "    plt.rcParams['figure.figsize'] = [25, 12]\n",
    "    plt.rcParams['font.size'] = 24\n",
    "    \n",
    "    display( HTML( '<style>.container { width:100% !important; }</style>') )\n",
    "    pd.options.display.max_columns = None\n",
    "    pd.options.display.max_rows = None\n",
    "    pd.set_option( 'display.expand_frame_repr', False )\n",
    "    \n",
    "    sns.set()"
   ]
  },
  {
   "cell_type": "code",
   "execution_count": 3,
   "id": "723eaece",
   "metadata": {
    "ExecuteTime": {
     "end_time": "2022-02-03T10:45:39.858230Z",
     "start_time": "2022-02-03T10:45:39.753296Z"
    },
    "scrolled": false
   },
   "outputs": [
    {
     "name": "stdout",
     "output_type": "stream",
     "text": [
      "Populating the interactive namespace from numpy and matplotlib\n"
     ]
    },
    {
     "data": {
      "text/html": [
       "<style>.container { width:100% !important; }</style>"
      ],
      "text/plain": [
       "<IPython.core.display.HTML object>"
      ]
     },
     "metadata": {},
     "output_type": "display_data"
    }
   ],
   "source": [
    "jupyter_settings()"
   ]
  },
  {
   "cell_type": "markdown",
   "id": "e5e8d587",
   "metadata": {},
   "source": [
    "## 0.2 Loading data"
   ]
  },
  {
   "cell_type": "code",
   "execution_count": 4,
   "id": "1bd3e794",
   "metadata": {
    "ExecuteTime": {
     "end_time": "2022-02-03T10:45:41.804993Z",
     "start_time": "2022-02-03T10:45:39.862229Z"
    }
   },
   "outputs": [],
   "source": [
    "df_train_raw = pd.read_csv('../DATA/train.csv' , low_memory=False)\n",
    "df_store_raw = pd.read_csv('../DATA/store.csv' , low_memory=False)\n",
    "\n",
    "# Merge\n",
    "df_raw= pd.merge(df_train_raw, df_store_raw, how = 'left', on = 'Store')"
   ]
  },
  {
   "cell_type": "code",
   "execution_count": 5,
   "id": "421f4a59",
   "metadata": {
    "ExecuteTime": {
     "end_time": "2022-02-03T10:45:42.148877Z",
     "start_time": "2022-02-03T10:45:41.807999Z"
    },
    "scrolled": true
   },
   "outputs": [
    {
     "data": {
      "text/html": [
       "<div>\n",
       "<style scoped>\n",
       "    .dataframe tbody tr th:only-of-type {\n",
       "        vertical-align: middle;\n",
       "    }\n",
       "\n",
       "    .dataframe tbody tr th {\n",
       "        vertical-align: top;\n",
       "    }\n",
       "\n",
       "    .dataframe thead th {\n",
       "        text-align: right;\n",
       "    }\n",
       "</style>\n",
       "<table border=\"1\" class=\"dataframe\">\n",
       "  <thead>\n",
       "    <tr style=\"text-align: right;\">\n",
       "      <th></th>\n",
       "      <th>Store</th>\n",
       "      <th>DayOfWeek</th>\n",
       "      <th>Date</th>\n",
       "      <th>Sales</th>\n",
       "      <th>Customers</th>\n",
       "      <th>Open</th>\n",
       "      <th>Promo</th>\n",
       "      <th>StateHoliday</th>\n",
       "      <th>SchoolHoliday</th>\n",
       "      <th>StoreType</th>\n",
       "      <th>Assortment</th>\n",
       "      <th>CompetitionDistance</th>\n",
       "      <th>CompetitionOpenSinceMonth</th>\n",
       "      <th>CompetitionOpenSinceYear</th>\n",
       "      <th>Promo2</th>\n",
       "      <th>Promo2SinceWeek</th>\n",
       "      <th>Promo2SinceYear</th>\n",
       "      <th>PromoInterval</th>\n",
       "    </tr>\n",
       "  </thead>\n",
       "  <tbody>\n",
       "    <tr>\n",
       "      <th>198726</th>\n",
       "      <td>257</td>\n",
       "      <td>2</td>\n",
       "      <td>2015-02-03</td>\n",
       "      <td>5633</td>\n",
       "      <td>643</td>\n",
       "      <td>1</td>\n",
       "      <td>1</td>\n",
       "      <td>0</td>\n",
       "      <td>1</td>\n",
       "      <td>a</td>\n",
       "      <td>a</td>\n",
       "      <td>420.0</td>\n",
       "      <td>12.0</td>\n",
       "      <td>2012.0</td>\n",
       "      <td>0</td>\n",
       "      <td>NaN</td>\n",
       "      <td>NaN</td>\n",
       "      <td>NaN</td>\n",
       "    </tr>\n",
       "  </tbody>\n",
       "</table>\n",
       "</div>"
      ],
      "text/plain": [
       "        Store  DayOfWeek        Date  Sales  Customers  Open  Promo StateHoliday  SchoolHoliday StoreType Assortment  CompetitionDistance  CompetitionOpenSinceMonth  CompetitionOpenSinceYear  Promo2  Promo2SinceWeek  Promo2SinceYear PromoInterval\n",
       "198726    257          2  2015-02-03   5633        643     1      1            0              1         a          a                420.0                       12.0                    2012.0       0              NaN              NaN           NaN"
      ]
     },
     "execution_count": 5,
     "metadata": {},
     "output_type": "execute_result"
    }
   ],
   "source": [
    "df_raw.sample()"
   ]
  },
  {
   "cell_type": "code",
   "execution_count": null,
   "id": "384f967d",
   "metadata": {},
   "outputs": [],
   "source": []
  },
  {
   "cell_type": "markdown",
   "id": "b1e2f6f5",
   "metadata": {},
   "source": [
    "# 1.0 DATA DESCRIPTION"
   ]
  },
  {
   "cell_type": "code",
   "execution_count": 6,
   "id": "30564957",
   "metadata": {
    "ExecuteTime": {
     "end_time": "2022-02-03T10:45:42.228828Z",
     "start_time": "2022-02-03T10:45:42.151876Z"
    }
   },
   "outputs": [],
   "source": [
    "df1 = df_raw.copy()"
   ]
  },
  {
   "cell_type": "markdown",
   "id": "683dc35b",
   "metadata": {},
   "source": [
    "## 1.1 Rename columns"
   ]
  },
  {
   "cell_type": "code",
   "execution_count": 7,
   "id": "80dab63d",
   "metadata": {
    "ExecuteTime": {
     "end_time": "2022-02-03T10:45:42.260808Z",
     "start_time": "2022-02-03T10:45:42.231827Z"
    }
   },
   "outputs": [],
   "source": [
    "cols_old = ['Loja', 'DiaDaSemana', 'Data', 'Vendas', 'Clientes', 'Aberto', 'Promo',\n",
    "       'StateHoliday', 'SchoolHoliday', 'StoreType', 'Variedade',\n",
    "       'CompetitionDistance', 'CompetitionOpenSinceMonth',\n",
    "       'CompetitionOpenSinceYear', 'Promo2', 'Promo2SinceWeek',\n",
    "       'Promo2SinceYear', 'PromoInterval']\n",
    "\n",
    "snakecase = lambda x: inflection.underscore(x)\n",
    "\n",
    "cols_new = list( map(snakecase, cols_old) )\n",
    "\n",
    "# Rename\n",
    "df1.columns = cols_new"
   ]
  },
  {
   "cell_type": "markdown",
   "id": "79aa1204",
   "metadata": {},
   "source": [
    "## 1.2 Data dimensions "
   ]
  },
  {
   "cell_type": "code",
   "execution_count": 8,
   "id": "88f93be4",
   "metadata": {
    "ExecuteTime": {
     "end_time": "2022-02-03T10:45:42.340758Z",
     "start_time": "2022-02-03T10:45:42.263807Z"
    }
   },
   "outputs": [
    {
     "name": "stdout",
     "output_type": "stream",
     "text": [
      "Nubers of Rows: 1017209\n",
      "Nubers of Cols: 18\n"
     ]
    }
   ],
   "source": [
    "print( 'Nubers of Rows: {}' .format( df1.shape[0] ) )\n",
    "print( 'Nubers of Cols: {}' .format( df1.shape[1] ) )"
   ]
  },
  {
   "cell_type": "markdown",
   "id": "26ed3879",
   "metadata": {},
   "source": [
    "## 1.3 Data types "
   ]
  },
  {
   "cell_type": "code",
   "execution_count": 9,
   "id": "e3efdc78",
   "metadata": {
    "ExecuteTime": {
     "end_time": "2022-02-03T10:45:42.690545Z",
     "start_time": "2022-02-03T10:45:42.346758Z"
    },
    "scrolled": true
   },
   "outputs": [
    {
     "data": {
      "text/plain": [
       "loja                                     int64\n",
       "dia_da_semana                            int64\n",
       "data                            datetime64[ns]\n",
       "vendas                                   int64\n",
       "clientes                                 int64\n",
       "aberto                                   int64\n",
       "promo                                    int64\n",
       "state_holiday                           object\n",
       "school_holiday                           int64\n",
       "store_type                              object\n",
       "variedade                               object\n",
       "competition_distance                   float64\n",
       "competition_open_since_month           float64\n",
       "competition_open_since_year            float64\n",
       "promo2                                   int64\n",
       "promo2_since_week                      float64\n",
       "promo2_since_year                      float64\n",
       "promo_interval                          object\n",
       "dtype: object"
      ]
     },
     "execution_count": 9,
     "metadata": {},
     "output_type": "execute_result"
    }
   ],
   "source": [
    "df1['data'] = pd.to_datetime( df1 [ 'data'] )\n",
    "\n",
    "df1.dtypes"
   ]
  },
  {
   "cell_type": "markdown",
   "id": "75045163",
   "metadata": {},
   "source": [
    "## 1.4 Check NA"
   ]
  },
  {
   "cell_type": "code",
   "execution_count": 10,
   "id": "5a46fcb8",
   "metadata": {
    "ExecuteTime": {
     "end_time": "2022-02-03T10:45:43.038331Z",
     "start_time": "2022-02-03T10:45:42.693544Z"
    },
    "scrolled": true
   },
   "outputs": [
    {
     "data": {
      "text/plain": [
       "loja                                 0\n",
       "dia_da_semana                        0\n",
       "data                                 0\n",
       "vendas                               0\n",
       "clientes                             0\n",
       "aberto                               0\n",
       "promo                                0\n",
       "state_holiday                        0\n",
       "school_holiday                       0\n",
       "store_type                           0\n",
       "variedade                            0\n",
       "competition_distance              2642\n",
       "competition_open_since_month    323348\n",
       "competition_open_since_year     323348\n",
       "promo2                               0\n",
       "promo2_since_week               508031\n",
       "promo2_since_year               508031\n",
       "promo_interval                  508031\n",
       "dtype: int64"
      ]
     },
     "execution_count": 10,
     "metadata": {},
     "output_type": "execute_result"
    }
   ],
   "source": [
    "df1.isna().sum()"
   ]
  },
  {
   "cell_type": "markdown",
   "id": "362d7a93",
   "metadata": {},
   "source": [
    "## 1.5 Fillout NA "
   ]
  },
  {
   "cell_type": "code",
   "execution_count": 18,
   "id": "36530041",
   "metadata": {
    "ExecuteTime": {
     "end_time": "2022-02-03T12:15:14.615752Z",
     "start_time": "2022-02-03T12:12:11.856518Z"
    },
    "code_folding": []
   },
   "outputs": [],
   "source": [
    "#competition_distance        \n",
    "df1['competition_distance'] = df1['competition_distance'].apply( lambda x: 200000.0 if math.isnan( x ) else x )\n",
    "    \n",
    "#competition_open_since_month\n",
    "df1['competition_open_since_month'] = df1.apply( lambda x: x['data'].month if math.isnan( x['competition_open_since_month'] ) else x['competition_open_since_month'], axis=1 )\n",
    "    \n",
    "#competition_open_since_year \n",
    "df1['competition_open_since_year'] = df1.apply( lambda x: x['data'].year if math.isnan( x['competition_open_since_year'] ) else x['competition_open_since_year'], axis=1 )\n",
    "    \n",
    "#promo2_since_week         \n",
    "df1['promo2_since_week'] = df1.apply( lambda x: x['data'].week if math.isnan( x['promo2_since_week'] ) else x['promo2_since_week'], axis=1 )\n",
    "    \n",
    "#promo2_since_year           \n",
    "df1['promo2_since_year'] = df1.apply( lambda x: x['data'].year if math.isnan( x['promo2_since_year'] ) else x['promo2_since_year'], axis=1 )\n",
    "\n",
    "#promo_interval             \n",
    "month_map = {1: 'Jan',  2: 'Fev',  3: 'Mar',  4: 'Apr',  5: 'May',  6: 'Jun',  7: 'Jul',  8: 'Aug',  9: 'Sep',  10: 'Oct', 11: 'Nov', 12: 'Dec'}\n",
    "\n",
    "df1['promo_interval'].fillna(0, inplace=True )\n",
    "   \n",
    "df1['month_map'] = df1['data'].dt.month.map( month_map )\n",
    " \n",
    "df1['is_promo'] = df1[['promo_interval', 'month_map']].apply( lambda x: 0 if x['promo_interval'] == 0 else 1 if x['month_map'] in x['promo_interval'].split( ',' ) else 0, axis=1 )\n",
    "   "
   ]
  },
  {
   "cell_type": "code",
   "execution_count": null,
   "id": "110ea615",
   "metadata": {
    "ExecuteTime": {
     "start_time": "2022-02-03T12:27:06.677Z"
    },
    "scrolled": true
   },
   "outputs": [],
   "source": [
    "df1.isna().sum()"
   ]
  },
  {
   "cell_type": "markdown",
   "id": "1de0acb5",
   "metadata": {},
   "source": [
    "## 1.6. Change Data Types"
   ]
  },
  {
   "cell_type": "code",
   "execution_count": null,
   "id": "4a7c8248",
   "metadata": {
    "ExecuteTime": {
     "end_time": "2022-02-03T10:45:43.100295Z",
     "start_time": "2022-02-03T10:45:43.100295Z"
    }
   },
   "outputs": [],
   "source": [
    "# competiton\n",
    "df1['competition_open_since_month'] = df1['competition_open_since_month'].astype( int )\n",
    "df1['competition_open_since_year'] = df1['competition_open_since_year'].astype( int )\n",
    "    \n",
    "# promo2\n",
    "df1['promo2_since_week'] = df1['promo2_since_week'].astype( int )\n",
    "df1['promo2_since_year'] = df1['promo2_since_year'].astype( int )"
   ]
  },
  {
   "cell_type": "markdown",
   "id": "d51b3594",
   "metadata": {},
   "source": [
    "## 1.7 Descreptive statistics"
   ]
  },
  {
   "cell_type": "code",
   "execution_count": null,
   "id": "79eabdd0",
   "metadata": {
    "ExecuteTime": {
     "end_time": "2022-02-03T10:45:43.104290Z",
     "start_time": "2022-02-03T10:45:43.104290Z"
    }
   },
   "outputs": [],
   "source": [
    "# Central Tendency - mean, meadina \n",
    "ct1 = pd.DataFrame( num_attributes.apply( np.mean ) ).T\n",
    "ct2 = pd.DataFrame( num_attributes.apply( np.median ) ).T\n",
    "\n",
    "# dispersion - std, min, max, range, skew, kurtosis\n",
    "d1 = pd.DataFrame( num_attributes.apply( np.std ) ).T \n",
    "d2 = pd.DataFrame( num_attributes.apply( min ) ).T \n",
    "d3 = pd.DataFrame( num_attributes.apply( max ) ).T \n",
    "d4 = pd.DataFrame( num_attributes.apply( lambda x: x.max() - x.min() ) ).T \n",
    "d5 = pd.DataFrame( num_attributes.apply( lambda x: x.skew() ) ).T \n",
    "d6 = pd.DataFrame( num_attributes.apply( lambda x: x.kurtosis() ) ).T \n",
    "\n",
    "# concatenar\n",
    "m = pd.concat( [d2, d3, d4, ct1, ct2, d1, d5, d6] ).T.reset_index()\n",
    "m.columns = ['attributes', 'min', 'max', 'range', 'mean', 'median', 'std', 'skew', 'kurtosis']"
   ]
  },
  {
   "cell_type": "markdown",
   "id": "8041a920",
   "metadata": {
    "ExecuteTime": {
     "start_time": "2022-02-02T21:04:43.569Z"
    }
   },
   "source": [
    "## 1.7.1. Numerical Atributes"
   ]
  },
  {
   "cell_type": "code",
   "execution_count": null,
   "id": "efd1050e",
   "metadata": {
    "ExecuteTime": {
     "end_time": "2022-02-03T10:45:43.106290Z",
     "start_time": "2022-02-03T10:45:43.106290Z"
    }
   },
   "outputs": [],
   "source": [
    "# Central Tendency - mean, meadina \n",
    "ct1 = pd.DataFrame( num_attributes.apply( np.mean ) ).T\n",
    "ct2 = pd.DataFrame( num_attributes.apply( np.median ) ).T\n",
    "\n",
    "# dispersion - std, min, max, range, skew, kurtosis\n",
    "d1 = pd.DataFrame( num_attributes.apply( np.std ) ).T \n",
    "d2 = pd.DataFrame( num_attributes.apply( min ) ).T \n",
    "d3 = pd.DataFrame( num_attributes.apply( max ) ).T \n",
    "d4 = pd.DataFrame( num_attributes.apply( lambda x: x.max() - x.min() ) ).T \n",
    "d5 = pd.DataFrame( num_attributes.apply( lambda x: x.skew() ) ).T \n",
    "d6 = pd.DataFrame( num_attributes.apply( lambda x: x.kurtosis() ) ).T \n",
    "\n",
    "# concatenar\n",
    "m = pd.concat( [d2, d3, d4, ct1, ct2, d1, d5, d6] ).T.reset_index()\n",
    "m.columns = ['attributes', 'min', 'max', 'range', 'mean', 'median', 'std', 'skew', 'kurtosis']"
   ]
  },
  {
   "cell_type": "code",
   "execution_count": null,
   "id": "3cb46ecc",
   "metadata": {
    "ExecuteTime": {
     "end_time": "2022-02-03T10:45:43.109287Z",
     "start_time": "2022-02-03T10:45:43.109287Z"
    }
   },
   "outputs": [],
   "source": [
    "sns.histplot( df1['competition_distance'], kde=False );"
   ]
  },
  {
   "cell_type": "markdown",
   "id": "7e7cfc6b",
   "metadata": {},
   "source": [
    "## 1.7.2. Categorical Atributes"
   ]
  },
  {
   "cell_type": "code",
   "execution_count": null,
   "id": "35081d65",
   "metadata": {
    "ExecuteTime": {
     "end_time": "2022-02-03T10:45:43.112289Z",
     "start_time": "2022-02-03T10:45:43.112289Z"
    }
   },
   "outputs": [],
   "source": [
    "cat_attributes.apply( lambda x: x.unique().shape[0] )"
   ]
  },
  {
   "cell_type": "code",
   "execution_count": null,
   "id": "cebcd5f2",
   "metadata": {
    "ExecuteTime": {
     "end_time": "2022-02-03T10:45:43.115285Z",
     "start_time": "2022-02-03T10:45:43.115285Z"
    }
   },
   "outputs": [],
   "source": [
    "aux = df1[(df1['state_holiday'] != '0') & (df1['sales'] > 0)]\n",
    "\n",
    "plt.subplot( 1, 3, 1 );\n",
    "sns.boxplot( x='state_holiday', y='sales', data=aux );\n",
    "\n",
    "plt.subplot( 1, 3, 2 );\n",
    "sns.boxplot( x='store_type', y='sales', data=aux );\n",
    "\n",
    "plt.subplot( 1, 3, 3 );\n",
    "sns.boxplot( x='assortment', y='sales', data=aux );"
   ]
  },
  {
   "cell_type": "markdown",
   "id": "99e2f844",
   "metadata": {},
   "source": [
    "# 2.0. FEATURE ENGINEERING"
   ]
  },
  {
   "cell_type": "code",
   "execution_count": null,
   "id": "3f969316",
   "metadata": {
    "ExecuteTime": {
     "end_time": "2022-02-03T10:45:43.118282Z",
     "start_time": "2022-02-03T10:45:43.118282Z"
    }
   },
   "outputs": [],
   "source": [
    "df2 = df1.copy"
   ]
  }
 ],
 "metadata": {
  "kernelspec": {
   "display_name": "Python 3 (ipykernel)",
   "language": "python",
   "name": "python3"
  },
  "language_info": {
   "codemirror_mode": {
    "name": "ipython",
    "version": 3
   },
   "file_extension": ".py",
   "mimetype": "text/x-python",
   "name": "python",
   "nbconvert_exporter": "python",
   "pygments_lexer": "ipython3",
   "version": "3.9.7"
  },
  "varInspector": {
   "cols": {
    "lenName": 16,
    "lenType": 16,
    "lenVar": 40
   },
   "kernels_config": {
    "python": {
     "delete_cmd_postfix": "",
     "delete_cmd_prefix": "del ",
     "library": "var_list.py",
     "varRefreshCmd": "print(var_dic_list())"
    },
    "r": {
     "delete_cmd_postfix": ") ",
     "delete_cmd_prefix": "rm(",
     "library": "var_list.r",
     "varRefreshCmd": "cat(var_dic_list()) "
    }
   },
   "types_to_exclude": [
    "module",
    "function",
    "builtin_function_or_method",
    "instance",
    "_Feature"
   ],
   "window_display": false
  }
 },
 "nbformat": 4,
 "nbformat_minor": 5
}
